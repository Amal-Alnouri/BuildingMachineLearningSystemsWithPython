{
 "cells": [
  {
   "cell_type": "markdown",
   "metadata": {},
   "source": [
    "### This script generates web traffic data for our hypothetical web startup \"MLASS\" in chapter 01"
   ]
  },
  {
   "cell_type": "markdown",
   "metadata": {},
   "source": [
    "## Step1: Import Packages"
   ]
  },
  {
   "cell_type": "markdown",
   "metadata": {},
   "source": [
    "#### We shouldn't do the following, becuas we do not want to pollute our namespace:"
   ]
  },
  {
   "cell_type": "raw",
   "metadata": {},
   "source": [
    "    from scipy import *"
   ]
  },
  {
   "cell_type": "code",
   "execution_count": 1,
   "metadata": {
    "collapsed": false
   },
   "outputs": [],
   "source": [
    "import scipy as sp\n",
    "import matplotlib.pyplot as plt\n",
    "from scipy.optimize import fsolve"
   ]
  },
  {
   "cell_type": "markdown",
   "metadata": {},
   "source": [
    "## Step2: Reading in the data"
   ]
  },
  {
   "cell_type": "markdown",
   "metadata": {},
   "source": [
    "#### Using SciPy's genfromtxt()"
   ]
  },
  {
   "cell_type": "code",
   "execution_count": 2,
   "metadata": {
    "collapsed": false
   },
   "outputs": [],
   "source": [
    "data = sp.genfromtxt(\"data/web_traffic.tsv\", delimiter=\"\\t\")"
   ]
  },
  {
   "cell_type": "markdown",
   "metadata": {},
   "source": [
    "## Step3: Preprocessing and cleaning the data"
   ]
  },
  {
   "cell_type": "markdown",
   "metadata": {},
   "source": [
    "#### Separate the dimensions into two vectors x and y"
   ]
  },
  {
   "cell_type": "code",
   "execution_count": 3,
   "metadata": {
    "collapsed": true
   },
   "outputs": [],
   "source": [
    "x = data[:,0]\n",
    "y = data[:,1]"
   ]
  },
  {
   "cell_type": "markdown",
   "metadata": {},
   "source": [
    "#### Removing some values in y that contain invalid values, nan."
   ]
  },
  {
   "cell_type": "code",
   "execution_count": 4,
   "metadata": {
    "collapsed": false
   },
   "outputs": [],
   "source": [
    "x = x[~sp.isnan(y)]\n",
    "y = y[~sp.isnan(y)]"
   ]
  },
  {
   "cell_type": "markdown",
   "metadata": {},
   "source": [
    "#### Get a first impression of our data"
   ]
  },
  {
   "cell_type": "code",
   "execution_count": 5,
   "metadata": {
    "collapsed": false
   },
   "outputs": [
    {
     "data": {
      "image/png": "[encoded data removed]",
      "text/plain": [
       "<matplotlib.figure.Figure at 0x1782d1ec5c0>"
      ]
     },
     "metadata": {},
     "output_type": "display_data"
    }
   ],
   "source": [
    "plt.scatter(x,y,s=2)\n",
    "plt.title(\"Web Traffic\")\n",
    "plt.xlabel(\"Time\")\n",
    "plt.ylabel(\"Hits/hour\")\n",
    "plt.xticks([w*7*24 for w in range(10)], ['Week %i' %w for w in range(10)])\n",
    "plt.autoscale(tight=True)\n",
    "plt.grid()\n",
    "plt.show()"
   ]
  },
  {
   "cell_type": "markdown",
   "metadata": {},
   "source": [
    "#### We can see that while in the first weeks the traffic stayed more or less the same, the last week shows a steep increase"
   ]
  },
  {
   "cell_type": "markdown",
   "metadata": {},
   "source": [
    "## Step4: Choosing the right model and learning algorithm"
   ]
  },
  {
   "cell_type": "markdown",
   "metadata": {},
   "source": [
    "#### - Find the real model behind the noisy data points"
   ]
  },
  {
   "cell_type": "markdown",
   "metadata": {},
   "source": [
    "#### - Use the model to extrapolate into the future to find the point in time where our infrastructure has to be extended"
   ]
  },
  {
   "cell_type": "code",
   "execution_count": 6,
   "metadata": {
    "collapsed": true
   },
   "outputs": [],
   "source": [
    "def simpleModel(xx, yy, ord):\n",
    "    return sp.poly1d(sp.polyfit(xx,yy,ord))\n",
    "\n",
    "def error(f, xx, yy):\n",
    "    return sp.sum((f(xx)-yy)**2)"
   ]
  },
  {
   "cell_type": "markdown",
   "metadata": {},
   "source": [
    "#### Starting with a simple straight line, towards some advanced stuff (polynomial of degree \"2, 3, 10 and 100\")"
   ]
  },
  {
   "cell_type": "code",
   "execution_count": 7,
   "metadata": {
    "collapsed": false
   },
   "outputs": [
    {
     "name": "stdout",
     "output_type": "stream",
     "text": [
      "error for f1 317389767\n",
      "error for f2 179983507\n",
      "error for f3 139350144\n",
      "error for f10 121942326\n",
      "error for f100 109452402\n"
     ]
    },
    {
     "name": "stderr",
     "output_type": "stream",
     "text": [
      "C:\\Users\\Amal\\Anaconda3\\lib\\site-packages\\numpy\\lib\\polynomial.py:587: RuntimeWarning: overflow encountered in multiply\n",
      "  scale = NX.sqrt((lhs*lhs).sum(axis=0))\n",
      "C:\\Users\\Amal\\Anaconda3\\lib\\site-packages\\numpy\\lib\\polynomial.py:595: RankWarning: Polyfit may be poorly conditioned\n",
      "  warnings.warn(msg, RankWarning)\n"
     ]
    }
   ],
   "source": [
    "errs = []\n",
    "f1 = simpleModel(x, y, 1)\n",
    "errs.append(error(f1, x, y))\n",
    "print(\"error for f1 %i\" %errs[0])\n",
    "\n",
    "f2 = simpleModel(x, y, 2)\n",
    "errs.append(error(f2, x, y))\n",
    "print(\"error for f2 %i\" %errs[1])\n",
    "\n",
    "f3 = simpleModel(x, y, 3)\n",
    "errs.append(error(f3, x, y))\n",
    "print(\"error for f3 %i\" %errs[2])\n",
    "\n",
    "f10 = simpleModel(x, y, 10)\n",
    "errs.append(error(f10, x, y))\n",
    "print(\"error for f10 %i\" %errs[3])\n",
    "\n",
    "f100 = simpleModel(x, y, 100)\n",
    "errs.append(error(f100, x, y))\n",
    "print(\"error for f100 %i\" %errs[4])"
   ]
  },
  {
   "cell_type": "code",
   "execution_count": 8,
   "metadata": {
    "collapsed": false,
    "scrolled": true
   },
   "outputs": [
    {
     "data": {
      "image/png": "[encoded data removed]",
      "text/plain": [
       "<matplotlib.figure.Figure at 0x1782d64ab00>"
      ]
     },
     "metadata": {},
     "output_type": "display_data"
    }
   ],
   "source": [
    "plt.scatter(x,y,s=2)\n",
    "plt.title(\"Web Traffic\")\n",
    "plt.xlabel(\"Time\")\n",
    "plt.ylabel(\"Hits/hour\")\n",
    "plt.xticks([w*7*24 for w in range(10)], ['Week %i' %w for w in range(10)])\n",
    "\n",
    "# Simple Model 1\n",
    "fx = sp.linspace(0, x[-1], 10000)\n",
    "plt.plot(fx, f1(fx), 'g', linewidth=2)\n",
    "\n",
    "# Simple Model 2\n",
    "fx = sp.linspace(0, x[-1], 10000)\n",
    "plt.plot(fx, f2(fx),'c', linewidth=3)\n",
    "\n",
    "# Simple Model 3\n",
    "fx = sp.linspace(0, x[-1], 10000)\n",
    "plt.plot(fx, f3(fx),'k:', linewidth=3)\n",
    "\n",
    "# Simple Model 4\n",
    "fx = sp.linspace(0, x[-1], 10000)\n",
    "plt.plot(fx, f10(fx),'y--', linewidth=3)\n",
    "\n",
    "# Simple Model 5\n",
    "fx = sp.linspace(0, x[-1], 10000)\n",
    "plt.plot(fx, f100(fx),'r-.', linewidth=3)\n",
    "\n",
    "plt.legend([\"d=%i\" %f1.order, \"d=%i\" %f2.order, \"d=%i\" %f3.order, \"d=%i\" %f10.order, \"d=%i\" %f100.order], \n",
    "           loc=\"upper left\")\n",
    "\n",
    "plt.autoscale(tight=True)\n",
    "plt.grid()\n",
    "plt.show()"
   ]
  },
  {
   "cell_type": "markdown",
   "metadata": {},
   "source": [
    "#### For degree 10 and 100 it seems that the models are fitted too much to the data. So much that it is now capturing not only the \n",
    "#### underlying process but also the noise. This is called overfitting."
   ]
  },
  {
   "cell_type": "markdown",
   "metadata": {},
   "source": [
    "##### The first-order model clearly is too simple, and the models\n",
    "#### Only the second- and third-order models seem to somehow match the data.\n",
    "#### However, if we extrapolate them at both borders, we see them going berserk."
   ]
  },
  {
   "cell_type": "markdown",
   "metadata": {},
   "source": [
    "#### Switching to a more complex class of models also seems to be the wrong way to go about it.\n",
    "#### What arguments would back which class? At this point, we realize that we probably\n",
    "#### have not completely understood our data."
   ]
  },
  {
   "cell_type": "markdown",
   "metadata": {},
   "source": [
    "## Stepping back to go forward – another look at our data"
   ]
  },
  {
   "cell_type": "markdown",
   "metadata": {},
   "source": [
    "#### we step back and take another look at the data. It seems that there is an inflection\n",
    "#### point between weeks 3 and 4. So let us separate the data and train two lines using\n",
    "#### week 3.5 as a separation point. We train the first line with the data up to week 3, and\n",
    "#### the second line with the remaining data."
   ]
  },
  {
   "cell_type": "code",
   "execution_count": 9,
   "metadata": {
    "collapsed": false
   },
   "outputs": [
    {
     "name": "stderr",
     "output_type": "stream",
     "text": [
      "C:\\Users\\Amal\\Anaconda3\\lib\\site-packages\\ipykernel\\__main__.py:3: VisibleDeprecationWarning: using a non-integer number instead of an integer will result in an error in the future\n",
      "  app.launch_new_instance()\n",
      "C:\\Users\\Amal\\Anaconda3\\lib\\site-packages\\ipykernel\\__main__.py:4: VisibleDeprecationWarning: using a non-integer number instead of an integer will result in an error in the future\n",
      "C:\\Users\\Amal\\Anaconda3\\lib\\site-packages\\ipykernel\\__main__.py:6: VisibleDeprecationWarning: using a non-integer number instead of an integer will result in an error in the future\n",
      "C:\\Users\\Amal\\Anaconda3\\lib\\site-packages\\ipykernel\\__main__.py:7: VisibleDeprecationWarning: using a non-integer number instead of an integer will result in an error in the future\n"
     ]
    }
   ],
   "source": [
    "inflection = 3.5*7*24\n",
    "\n",
    "xa = x[:inflection] \n",
    "ya = y[:inflection]\n",
    "\n",
    "xb = x[inflection:]\n",
    "yb = y[inflection:]"
   ]
  },
  {
   "cell_type": "code",
   "execution_count": 10,
   "metadata": {
    "collapsed": true
   },
   "outputs": [],
   "source": [
    "fa = simpleModel(xa, ya, 1)\n",
    "er1 = error(fa, xa, ya)\n",
    "\n",
    "fb = simpleModel(xb, yb, 1)\n",
    "er2 = error(fb, xb, yb)\n",
    "\n",
    "errs.append(er1+er2)"
   ]
  },
  {
   "cell_type": "markdown",
   "metadata": {},
   "source": [
    "### Plotting the two models for the two data ranges gives the following chart:"
   ]
  },
  {
   "cell_type": "code",
   "execution_count": 11,
   "metadata": {
    "collapsed": false
   },
   "outputs": [
    {
     "data": {
      "image/png": "[encoded data removed]",
      "text/plain": [
       "<matplotlib.figure.Figure at 0x1782d19aba8>"
      ]
     },
     "metadata": {},
     "output_type": "display_data"
    }
   ],
   "source": [
    "plt.scatter(x,y,s=2)\n",
    "plt.title(\"Web Traffic\")\n",
    "plt.xlabel(\"Time\")\n",
    "plt.ylabel(\"Hits/hour\")\n",
    "plt.xticks([w*7*24 for w in range(10)], ['Week %i' %w for w in range(10)])\n",
    "\n",
    "# Simple Model 6\n",
    "fx = sp.linspace(xa[0], xa[-1], 10000)\n",
    "plt.plot(fx, fa(fx), 'g', linewidth=2)\n",
    "fx = sp.linspace(xb[0], xb[-1], 10000)\n",
    "plt.plot(fx, fb(fx), 'k--', linewidth=2)\n",
    "\n",
    "plt.legend([\"a\", \"b\"], loc=\"upper left\")\n",
    "\n",
    "plt.autoscale(tight=True)\n",
    "plt.grid()\n",
    "plt.show()"
   ]
  },
  {
   "cell_type": "markdown",
   "metadata": {},
   "source": [
    "### The following chart describes the error related  to each model"
   ]
  },
  {
   "cell_type": "code",
   "execution_count": 12,
   "metadata": {
    "collapsed": false
   },
   "outputs": [
    {
     "data": {
      "image/png": "[encoded data removed]",
      "text/plain": [
       "<matplotlib.figure.Figure at 0x1782d5f3080>"
      ]
     },
     "metadata": {},
     "output_type": "display_data"
    }
   ],
   "source": [
    "plt.scatter(range(len(errs)), errs, s=100)\n",
    "plt.title(\"Models Errors\")\n",
    "plt.xlabel(\"Model\")\n",
    "plt.ylabel(\"Error\")\n",
    "plt.xticks([t for t in range(len(errs))], [\"M%i\" %num for num in range(1,7)])\n",
    "\n",
    "plt.grid(True)\n",
    "plt.show()"
   ]
  },
  {
   "cell_type": "markdown",
   "metadata": {},
   "source": [
    "#### Clearly, the combination of the two lines seems to be a much better fit to the data\n",
    "#### than anything we have modeled before. But still, the combined error is higher than\n",
    "#### the higher-order polynomials."
   ]
  },
  {
   "cell_type": "markdown",
   "metadata": {},
   "source": [
    "### We can realize that the last week says more about the future than the data before.\n",
    "#### So let us play fair to the models of degree 2 and above and try out how they behave if we fit them only to the data of the last week."
   ]
  },
  {
   "cell_type": "code",
   "execution_count": 13,
   "metadata": {
    "collapsed": false
   },
   "outputs": [
    {
     "name": "stdout",
     "output_type": "stream",
     "text": [
      "error for fb1 22143941\n",
      "error for fb2 19768846\n",
      "error for fb3 19766452\n",
      "error for fb10 18949296\n",
      "error for fb100 18300791\n"
     ]
    },
    {
     "name": "stderr",
     "output_type": "stream",
     "text": [
      "C:\\Users\\Amal\\Anaconda3\\lib\\site-packages\\numpy\\lib\\polynomial.py:595: RankWarning: Polyfit may be poorly conditioned\n",
      "  warnings.warn(msg, RankWarning)\n",
      "C:\\Users\\Amal\\Anaconda3\\lib\\site-packages\\numpy\\lib\\polynomial.py:587: RuntimeWarning: overflow encountered in multiply\n",
      "  scale = NX.sqrt((lhs*lhs).sum(axis=0))\n",
      "C:\\Users\\Amal\\Anaconda3\\lib\\site-packages\\numpy\\lib\\polynomial.py:595: RankWarning: Polyfit may be poorly conditioned\n",
      "  warnings.warn(msg, RankWarning)\n"
     ]
    }
   ],
   "source": [
    "errs2 = []\n",
    "fb1 = simpleModel(xb, yb, 1)\n",
    "errs2.append(error(fb1, xb, yb))\n",
    "print(\"error for fb1 %i\" %errs2[0])\n",
    "\n",
    "fb2 = simpleModel(xb, yb, 2)\n",
    "errs2.append(error(fb2, xb, yb))\n",
    "print(\"error for fb2 %i\" %errs2[1])\n",
    "\n",
    "fb3 = simpleModel(xb, yb, 3)\n",
    "errs2.append(error(fb3, xb, yb))\n",
    "print(\"error for fb3 %i\" %errs2[2])\n",
    "\n",
    "fb10 = simpleModel(xb, yb, 10)\n",
    "errs2.append(error(fb10, xb, yb))\n",
    "print(\"error for fb10 %i\" %errs2[3])\n",
    "\n",
    "fb100 = simpleModel(xb, yb, 100)\n",
    "errs2.append(error(fb100, xb, yb))\n",
    "print(\"error for fb100 %i\" %errs2[4])"
   ]
  },
  {
   "cell_type": "code",
   "execution_count": 14,
   "metadata": {
    "collapsed": false
   },
   "outputs": [
    {
     "data": {
      "image/png": "[encoded data removed]",
      "text/plain": [
       "<matplotlib.figure.Figure at 0x1782d819710>"
      ]
     },
     "metadata": {},
     "output_type": "display_data"
    }
   ],
   "source": [
    "plt.scatter(range(len(errs2)), errs2, s=100)\n",
    "plt.title(\"Models Errors\")\n",
    "plt.xlabel(\"Model\")\n",
    "plt.ylabel(\"Error\")\n",
    "plt.xticks([t for t in range(len(errs2))], [\"M%i\" %num for num in range(1,6)])\n",
    "\n",
    "plt.grid(True)\n",
    "plt.show()"
   ]
  },
  {
   "cell_type": "markdown",
   "metadata": {},
   "source": [
    "#### Still, judging from the errors of the models when trained only on the data from week\n",
    "#### 3.5 and after, we should still choose the most complex one :/"
   ]
  },
  {
   "cell_type": "markdown",
   "metadata": {},
   "source": [
    "## Training and testing"
   ]
  },
  {
   "cell_type": "markdown",
   "metadata": {},
   "source": [
    "#### Although we cannot look into the future, we can and should simulate a similar effect\n",
    "#### by holding out a part of our data."
   ]
  },
  {
   "cell_type": "code",
   "execution_count": 15,
   "metadata": {
    "collapsed": false
   },
   "outputs": [
    {
     "name": "stderr",
     "output_type": "stream",
     "text": [
      "C:\\Users\\Amal\\Anaconda3\\lib\\site-packages\\numpy\\lib\\polynomial.py:595: RankWarning: Polyfit may be poorly conditioned\n",
      "  warnings.warn(msg, RankWarning)\n",
      "C:\\Users\\Amal\\Anaconda3\\lib\\site-packages\\numpy\\lib\\polynomial.py:587: RuntimeWarning: overflow encountered in multiply\n",
      "  scale = NX.sqrt((lhs*lhs).sum(axis=0))\n",
      "C:\\Users\\Amal\\Anaconda3\\lib\\site-packages\\numpy\\lib\\polynomial.py:595: RankWarning: Polyfit may be poorly conditioned\n",
      "  warnings.warn(msg, RankWarning)\n"
     ]
    }
   ],
   "source": [
    "frac = 0.3\n",
    "split_idx = int(frac * len(xb))\n",
    "shuffled = sp.random.permutation(list(range(len(xb))))\n",
    "test = sorted(shuffled[:split_idx])\n",
    "train = sorted(shuffled[split_idx:])\n",
    "fbt1 = simpleModel(xb[train], yb[train], 1)\n",
    "fbt2 = simpleModel(xb[train], yb[train], 2)\n",
    "fbt3 = simpleModel(xb[train], yb[train], 3)\n",
    "fbt10 = simpleModel(xb[train], yb[train], 10)\n",
    "fbt100 = simpleModel(xb[train], yb[train], 100)"
   ]
  },
  {
   "cell_type": "code",
   "execution_count": 16,
   "metadata": {
    "collapsed": false
   },
   "outputs": [
    {
     "name": "stdout",
     "output_type": "stream",
     "text": [
      "Error d=1: 7934986.802527\n",
      "Error d=2: 6585272.639371\n",
      "Error d=3: 6770635.372978\n",
      "Error d=10: 9005408.750228\n",
      "Error d=53: 8669834.940745\n"
     ]
    }
   ],
   "source": [
    "errs3 = []\n",
    "for f in [fbt1, fbt2, fbt3, fbt10, fbt100]:\n",
    "    errs3.append(error(f, xb[test], yb[test]))\n",
    "    print(\"Error d=%i: %f\" % (f.order, error(f, xb[test], yb[test])))"
   ]
  },
  {
   "cell_type": "code",
   "execution_count": 17,
   "metadata": {
    "collapsed": false
   },
   "outputs": [
    {
     "data": {
      "image/png": "[encoded data removed]",
      "text/plain": [
       "<matplotlib.figure.Figure at 0x1782d8a3ac8>"
      ]
     },
     "metadata": {},
     "output_type": "display_data"
    }
   ],
   "source": [
    "plt.scatter(range(len(errs3)), errs3, s=100)\n",
    "plt.title(\"Models Errors\")\n",
    "plt.xlabel(\"Model\")\n",
    "plt.ylabel(\"Error\")\n",
    "plt.xticks([t for t in range(len(errs3))], [\"M%i\" %num for num in range(1,6)])\n",
    "\n",
    "plt.grid(True)\n",
    "plt.show()"
   ]
  },
  {
   "cell_type": "markdown",
   "metadata": {},
   "source": [
    "#### The test errors for the models trained only on the time after the inflection point now\n",
    "#### show a completely different picture!"
   ]
  },
  {
   "cell_type": "markdown",
   "metadata": {},
   "source": [
    "#### It seems we finally have a clear winner. The model with degree 2 has the lowest\n",
    "#### test error, which is the error when measured using data that the model did not see\n",
    "#### during training. And this is what lets us trust that we won't get bad surprises when\n",
    "#### future data arrives."
   ]
  },
  {
   "cell_type": "markdown",
   "metadata": {},
   "source": [
    "## Answering our initial question"
   ]
  },
  {
   "cell_type": "markdown",
   "metadata": {},
   "source": [
    "#### We have to calculate when our model function reaches the value 100,000."
   ]
  },
  {
   "cell_type": "code",
   "execution_count": 21,
   "metadata": {
    "collapsed": false
   },
   "outputs": [
    {
     "name": "stdout",
     "output_type": "stream",
     "text": [
      "100,000 hits/hour expected at week 10.887682\n"
     ]
    }
   ],
   "source": [
    "reached_max = fsolve(fbt2-100000, 800)/(7*24)\n",
    "print(\"100,000 hits/hour expected at week %f\" % reached_max[0])"
   ]
  },
  {
   "cell_type": "markdown",
   "metadata": {},
   "source": [
    "#### Of course, there is a certain uncertainty involved with our prediction. To get the real\n",
    "#### picture, you can draw in more sophisticated statistics to find out about the variance\n",
    "#### that we have to expect when looking farther and further into the future."
   ]
  },
  {
   "cell_type": "markdown",
   "metadata": {},
   "source": [
    "### the most important thing is that as a typical machine learning operator, you will spend most of your time understanding and refining the data"
   ]
  }
 ],
 "metadata": {
  "kernelspec": {
   "display_name": "Python 3",
   "language": "python",
   "name": "python3"
  },
  "language_info": {
   "codemirror_mode": {
    "name": "ipython",
    "version": 3
   },
   "file_extension": ".py",
   "mimetype": "text/x-python",
   "name": "python",
   "nbconvert_exporter": "python",
   "pygments_lexer": "ipython3",
   "version": "3.6.0"
  }
 },
 "nbformat": 4,
 "nbformat_minor": 2
}
